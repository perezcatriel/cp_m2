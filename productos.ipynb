{
 "cells": [
  {
   "attachments": {},
   "cell_type": "markdown",
   "metadata": {},
   "source": [
    "6) ¿Cuál es el id del Producto cuyo nombre/concepto es PARLANTE JBL GO ORANGE BLUETOOTH?"
   ]
  },
  {
   "cell_type": "code",
   "execution_count": 1,
   "metadata": {},
   "outputs": [],
   "source": [
    "import pandas as pd"
   ]
  },
  {
   "cell_type": "code",
   "execution_count": 6,
   "metadata": {},
   "outputs": [
    {
     "name": "stdout",
     "output_type": "stream",
     "text": [
      "El id del producto es: 42835\n"
     ]
    }
   ],
   "source": [
    "\n",
    "df = pd.read_csv(\"./tablas/Productos.csv\")\n",
    "\n",
    "\n",
    "id_producto = df.loc[df['Concepto'] == 'PARLANTE JBL GO ORANGE BLUETOOTH', 'ID_PRODUCTO'].values[0]\n",
    "\n",
    "\n",
    "print(\"El id del producto es:\", id_producto)\n"
   ]
  },
  {
   "attachments": {},
   "cell_type": "markdown",
   "metadata": {},
   "source": [
    "¿Cuál es el promedio de precio de los productos cuyo concepto comienza con la letra C?\n",
    "## Pista: acordate de las funciones de agregacion AVG/SUM/MIN/MAX/COUNT"
   ]
  },
  {
   "cell_type": "code",
   "execution_count": 21,
   "metadata": {},
   "outputs": [
    {
     "name": "stdout",
     "output_type": "stream",
     "text": [
      "El promedio de precio de los productos cuyo concepto comienza con la letra 'C' es: 555.75\n"
     ]
    }
   ],
   "source": [
    "productos_c = df[df[\"Concepto\"].str.startswith(\"C\")]\n",
    "promedio_precio_C = round(productos_c[\" Precio \"].mean(), 2)\n",
    "\n",
    "print(\"El promedio de precio de los productos cuyo concepto comienza con la letra 'C' es:\", promedio_precio_C)\n"
   ]
  },
  {
   "attachments": {},
   "cell_type": "markdown",
   "metadata": {},
   "source": [
    "8) Cual fue el mes (Fecha = Fecha de Venta) con menor venta (Venta = Precio*Cantidad) de la sucursal 13 para el año 2015 ?\n",
    "Pista para agrupar por mes podes usar el DATE_FORMAT( date,'%Y%m') --> YYYYMM o DATE_FORMAT( date,'%m') --> MM\n",
    "a - 9\n",
    "b - 3\n",
    "c - 12\n",
    "d - 6\n",
    "e - 8"
   ]
  },
  {
   "cell_type": "code",
   "execution_count": 23,
   "metadata": {},
   "outputs": [
    {
     "data": {
      "text/html": [
       "<div>\n",
       "<style scoped>\n",
       "    .dataframe tbody tr th:only-of-type {\n",
       "        vertical-align: middle;\n",
       "    }\n",
       "\n",
       "    .dataframe tbody tr th {\n",
       "        vertical-align: top;\n",
       "    }\n",
       "\n",
       "    .dataframe thead th {\n",
       "        text-align: right;\n",
       "    }\n",
       "</style>\n",
       "<table border=\"1\" class=\"dataframe\">\n",
       "  <thead>\n",
       "    <tr style=\"text-align: right;\">\n",
       "      <th></th>\n",
       "      <th>ID_PRODUCTO</th>\n",
       "      <th>Concepto</th>\n",
       "      <th>Tipo</th>\n",
       "      <th>Precio</th>\n",
       "    </tr>\n",
       "  </thead>\n",
       "  <tbody>\n",
       "    <tr>\n",
       "      <th>0</th>\n",
       "      <td>42737</td>\n",
       "      <td>EPSON COPYFAX 2000</td>\n",
       "      <td>IMPRESIÓN</td>\n",
       "      <td>1658.00</td>\n",
       "    </tr>\n",
       "    <tr>\n",
       "      <th>1</th>\n",
       "      <td>42754</td>\n",
       "      <td>MOT ASROCK H110M-HDS S1151 S/VGA</td>\n",
       "      <td>INFORMATICA</td>\n",
       "      <td>1237.50</td>\n",
       "    </tr>\n",
       "    <tr>\n",
       "      <th>2</th>\n",
       "      <td>42755</td>\n",
       "      <td>MOT ASROCK A58M-VG3+ AMD FM2+ R2.0</td>\n",
       "      <td>INFORMATICA</td>\n",
       "      <td>1079.32</td>\n",
       "    </tr>\n",
       "    <tr>\n",
       "      <th>3</th>\n",
       "      <td>42756</td>\n",
       "      <td>MOT ECS KAM1-I AM1</td>\n",
       "      <td>INFORMATICA</td>\n",
       "      <td>638.66</td>\n",
       "    </tr>\n",
       "    <tr>\n",
       "      <th>4</th>\n",
       "      <td>42757</td>\n",
       "      <td>MOT ASROCK B150M-HDS S1151 S/VGA</td>\n",
       "      <td>INFORMATICA</td>\n",
       "      <td>1784.42</td>\n",
       "    </tr>\n",
       "    <tr>\n",
       "      <th>...</th>\n",
       "      <td>...</td>\n",
       "      <td>...</td>\n",
       "      <td>...</td>\n",
       "      <td>...</td>\n",
       "    </tr>\n",
       "    <tr>\n",
       "      <th>286</th>\n",
       "      <td>43039</td>\n",
       "      <td>VALIJA NOTEBOOK CASE LOGIC INT-115 NEGRO</td>\n",
       "      <td>ESTUCHERIA</td>\n",
       "      <td>815.00</td>\n",
       "    </tr>\n",
       "    <tr>\n",
       "      <th>287</th>\n",
       "      <td>43040</td>\n",
       "      <td>VALIJA NOTEBOOK CASE LOGIC LODA-115 DRESS BLUE</td>\n",
       "      <td>ESTUCHERIA</td>\n",
       "      <td>757.00</td>\n",
       "    </tr>\n",
       "    <tr>\n",
       "      <th>288</th>\n",
       "      <td>43041</td>\n",
       "      <td>VALIJA NOTEBOOK CASE LOGIC LODA-115 GRAPHITE</td>\n",
       "      <td>ESTUCHERIA</td>\n",
       "      <td>779.00</td>\n",
       "    </tr>\n",
       "    <tr>\n",
       "      <th>289</th>\n",
       "      <td>43042</td>\n",
       "      <td>VALIJA NOTEBOOK CASE LOGIC LODA-115 PETROL GREEN</td>\n",
       "      <td>ESTUCHERIA</td>\n",
       "      <td>1121.00</td>\n",
       "    </tr>\n",
       "    <tr>\n",
       "      <th>290</th>\n",
       "      <td>43043</td>\n",
       "      <td>VALIJA NOTEBOOK CASE LOGIC VNAI-215 NEGRO</td>\n",
       "      <td>ESTUCHERIA</td>\n",
       "      <td>1159.00</td>\n",
       "    </tr>\n",
       "  </tbody>\n",
       "</table>\n",
       "<p>291 rows × 4 columns</p>\n",
       "</div>"
      ],
      "text/plain": [
       "     ID_PRODUCTO                                          Concepto  \\\n",
       "0          42737                                EPSON COPYFAX 2000   \n",
       "1          42754                  MOT ASROCK H110M-HDS S1151 S/VGA   \n",
       "2          42755                MOT ASROCK A58M-VG3+ AMD FM2+ R2.0   \n",
       "3          42756                                MOT ECS KAM1-I AM1   \n",
       "4          42757                  MOT ASROCK B150M-HDS S1151 S/VGA   \n",
       "..           ...                                               ...   \n",
       "286        43039          VALIJA NOTEBOOK CASE LOGIC INT-115 NEGRO   \n",
       "287        43040    VALIJA NOTEBOOK CASE LOGIC LODA-115 DRESS BLUE   \n",
       "288        43041      VALIJA NOTEBOOK CASE LOGIC LODA-115 GRAPHITE   \n",
       "289        43042  VALIJA NOTEBOOK CASE LOGIC LODA-115 PETROL GREEN   \n",
       "290        43043         VALIJA NOTEBOOK CASE LOGIC VNAI-215 NEGRO   \n",
       "\n",
       "            Tipo   Precio   \n",
       "0      IMPRESIÓN   1658.00  \n",
       "1    INFORMATICA   1237.50  \n",
       "2    INFORMATICA   1079.32  \n",
       "3    INFORMATICA    638.66  \n",
       "4    INFORMATICA   1784.42  \n",
       "..           ...       ...  \n",
       "286   ESTUCHERIA    815.00  \n",
       "287   ESTUCHERIA    757.00  \n",
       "288   ESTUCHERIA    779.00  \n",
       "289   ESTUCHERIA   1121.00  \n",
       "290   ESTUCHERIA   1159.00  \n",
       "\n",
       "[291 rows x 4 columns]"
      ]
     },
     "execution_count": 23,
     "metadata": {},
     "output_type": "execute_result"
    }
   ],
   "source": []
  },
  {
   "cell_type": "code",
   "execution_count": 53,
   "metadata": {},
   "outputs": [
    {
     "name": "stdout",
     "output_type": "stream",
     "text": [
      "<pandas.core.groupby.generic.DataFrameGroupBy object at 0x7f97cf8c76d0>\n"
     ]
    },
    {
     "name": "stderr",
     "output_type": "stream",
     "text": [
      "/tmp/ipykernel_22502/3165570968.py:6: SettingWithCopyWarning: \n",
      "A value is trying to be set on a copy of a slice from a DataFrame.\n",
      "Try using .loc[row_indexer,col_indexer] = value instead\n",
      "\n",
      "See the caveats in the documentation: https://pandas.pydata.org/pandas-docs/stable/user_guide/indexing.html#returning-a-view-versus-a-copy\n",
      "  ventas_sucursal_13_2015[\"Venta\"] = ventas_sucursal_13_2015[\"Precio\"] * ventas_sucursal_13_2015[\"Cantidad\"]\n"
     ]
    }
   ],
   "source": [
    "# # seleccionar solo los datos correspondientes a la sucursal 13 y el año 2015\n",
    "ventas_sucursal_13_2015 = df[(df[\"IdSucursal\"] == 13) & (df[\"Fecha\"].str.startswith(\"2015\"))]\n",
    "# ventas_sucursal_13_2015\n",
    "\n",
    "# # agregar una columna \"venta\" que sea el precio * cantidad\n",
    "ventas_sucursal_13_2015[\"Venta\"] = ventas_sucursal_13_2015[\"Precio\"] * ventas_sucursal_13_2015[\"Cantidad\"]\n",
    "# ventas_sucursal_13_2015\n",
    "\n",
    "# # agrupar los datos por mes\n",
    "# ventas_agrupadas_por_mes = ventas_sucursal_13_2015.groupby(ventas_sucursal_13_2015[\"Fecha\"].dt.month)[\"Venta\"].sum()\n",
    "# ventas_agrupadas_por_mes\n",
    "# ventas_sucursal_13_2015[\"Fecha\"].dt.month\n",
    "\n",
    "df[\"Fecha\"] = pd.to_datetime(df[\"Fecha\"])\n",
    "ventas_agrupadas_por_mes = df.groupby(df[\"Fecha\"].dt.month)\n",
    "print(ventas_agrupadas_por_mes)\n",
    "\n",
    "# df['month'] = df['Fecha'].dt.strftime('%m')\n",
    "# ventas_agrupadas_por_mes = df.groupby(df[\"month\"])[\"Venta\"].sum()\n",
    "\n",
    "\n",
    "# # buscar el mes con menor venta\n",
    "# mes_con_menor_venta = ventas_agrupadas_por_mes.idxmin()\n",
    "\n",
    "# # imprimir el mes con menor venta\n",
    "# print(\"El mes con menor venta para la sucursal 13 en el año 2015 fue:\", mes_con_menor_venta)\n"
   ]
  }
 ],
 "metadata": {
  "kernelspec": {
   "display_name": "base",
   "language": "python",
   "name": "python3"
  },
  "language_info": {
   "codemirror_mode": {
    "name": "ipython",
    "version": 3
   },
   "file_extension": ".py",
   "mimetype": "text/x-python",
   "name": "python",
   "nbconvert_exporter": "python",
   "pygments_lexer": "ipython3",
   "version": "3.9.15"
  },
  "orig_nbformat": 4,
  "vscode": {
   "interpreter": {
    "hash": "3724f6d0e46d3c7bef06f25de13ed3de24ca18605fbcf913e83714e8fe703185"
   }
  }
 },
 "nbformat": 4,
 "nbformat_minor": 2
}
